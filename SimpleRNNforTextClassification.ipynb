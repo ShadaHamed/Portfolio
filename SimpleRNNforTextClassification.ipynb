{
  "nbformat": 4,
  "nbformat_minor": 0,
  "metadata": {
    "colab": {
      "provenance": [],
      "authorship_tag": "ABX9TyN7wnVAsGrmWVqNk0a3yfnZ",
      "include_colab_link": true
    },
    "kernelspec": {
      "name": "python3",
      "display_name": "Python 3"
    },
    "language_info": {
      "name": "python"
    }
  },
  "cells": [
    {
      "cell_type": "markdown",
      "metadata": {
        "id": "view-in-github",
        "colab_type": "text"
      },
      "source": [
        "<a href=\"https://colab.research.google.com/github/ShadaHamed/Portfolio/blob/main/SimpleRNNforTextClassification.ipynb\" target=\"_parent\"><img src=\"https://colab.research.google.com/assets/colab-badge.svg\" alt=\"Open In Colab\"/></a>"
      ]
    },
    {
      "cell_type": "markdown",
      "source": [
        "Simple RNN for Text Classification"
      ],
      "metadata": {
        "id": "iRKn4zAOold0"
      }
    },
    {
      "cell_type": "code",
      "execution_count": 1,
      "metadata": {
        "id": "orSsqMV0lehF"
      },
      "outputs": [],
      "source": [
        "import tensorflow as tf"
      ]
    },
    {
      "cell_type": "code",
      "source": [
        "#import dependenecies \n",
        "from keras.preprocessing import sequence \n",
        "from keras.utils import pad_sequences\n",
        "from keras.models import Sequential\n",
        "from keras.layers import Dense, Dropout, Embedding, SimpleRNN\n",
        "from keras.datasets import imdb\n",
        "from keras.callbacks import TensorBoard    "
      ],
      "metadata": {
        "id": "n689Cl6ol2cN"
      },
      "execution_count": 10,
      "outputs": []
    },
    {
      "cell_type": "code",
      "source": [
        "#Hyper-Parameters\n",
        "max_features =5000\n",
        "no_classes = 1\n",
        "max_length = 100\n",
        "batch_size = 64\n",
        "embedding_size = 64\n",
        "dropout_rate = 0.5\n",
        "hidden_layers_size = 250\n",
        "no_epochs = 5"
      ],
      "metadata": {
        "id": "uL1YqevzmeQN"
      },
      "execution_count": 3,
      "outputs": []
    },
    {
      "cell_type": "code",
      "source": [
        "# Load IMDB Data from Keras datasets\n",
        "(x_train, y_train), (x_test, y_test) = imdb.load_data(num_words=max_features)\n",
        "print('Data loaded successfully.')\n",
        "print('# Train Data = ', len(x_train))\n",
        "print('# Test Data = ', len(x_test))"
      ],
      "metadata": {
        "colab": {
          "base_uri": "https://localhost:8080/"
        },
        "id": "QPd6Z_7rncJe",
        "outputId": "544f28e2-94ec-4efc-feac-7e13e7eddd80"
      },
      "execution_count": 4,
      "outputs": [
        {
          "output_type": "stream",
          "name": "stdout",
          "text": [
            "Downloading data from https://storage.googleapis.com/tensorflow/tf-keras-datasets/imdb.npz\n",
            "17464789/17464789 [==============================] - 0s 0us/step\n",
            "Data loaded successfully.\n",
            "# Train Data =  25000\n",
            "# Test Data =  25000\n"
          ]
        }
      ]
    },
    {
      "cell_type": "code",
      "source": [
        "# Data Preprocessing\n",
        "print('Preprocessing Data..')\n",
        "x_train = pad_sequences(x_train, maxlen=max_length)\n",
        "x_test = pad_sequences(x_test, maxlen=max_length)"
      ],
      "metadata": {
        "colab": {
          "base_uri": "https://localhost:8080/"
        },
        "id": "RDVdA-atoPcV",
        "outputId": "914f45b3-e489-416e-9be2-1461d66bf6b7"
      },
      "execution_count": 11,
      "outputs": [
        {
          "output_type": "stream",
          "name": "stdout",
          "text": [
            "Preprocessing Data..\n"
          ]
        }
      ]
    },
    {
      "cell_type": "code",
      "source": [
        "# Design Neural Network Architecture with SimpleRNN\n",
        "print('Building Simple RNN Model..')\n",
        "\n",
        "RNN_model = Sequential()\n",
        "# Add Embedding layer\n",
        "RNN_model.add(Embedding(max_features, embedding_size, input_length=max_length))\n",
        "RNN_model.add(Dropout(dropout_rate))\n",
        "# Add Simple RNN layer\n",
        "RNN_model.add(SimpleRNN(input_dim=1, units=25, batch_input_shape=(1, 3)))\n",
        "# Add Dense Hidden Layer\n",
        "RNN_model.add(Dense(hidden_layers_size, activation='relu'))\n",
        "RNN_model.add(Dropout(dropout_rate))\n",
        "# Output Layer \n",
        "RNN_model.add(Dense(no_classes, activation='sigmoid'))\n"
      ],
      "metadata": {
        "colab": {
          "base_uri": "https://localhost:8080/"
        },
        "id": "_lcBp1ctpGc2",
        "outputId": "f3bba7aa-76ee-470a-d875-400728ef9d97"
      },
      "execution_count": 28,
      "outputs": [
        {
          "output_type": "stream",
          "name": "stdout",
          "text": [
            "Building Simple RNN Model..\n"
          ]
        }
      ]
    },
    {
      "cell_type": "code",
      "source": [
        "# Configure model\n",
        "RNN_model.compile(loss='binary_crossentropy', optimizer='adam', metrics=['accuracy'])\n"
      ],
      "metadata": {
        "id": "OA_naLREqau_"
      },
      "execution_count": 29,
      "outputs": []
    },
    {
      "cell_type": "code",
      "source": [
        "# TensorBoard\n",
        "tensorboard = TensorBoard('./logs/SimpleRNN')"
      ],
      "metadata": {
        "id": "r3UbnIUmrU5R"
      },
      "execution_count": 30,
      "outputs": []
    },
    {
      "cell_type": "code",
      "source": [
        "# Train!\n",
        "print('Training the model..')\n",
        "RNN_model.fit(x_train, y_train, batch_size=batch_size, verbose=2, epochs=no_epochs, validation_data=(x_test, y_test), callbacks = [tensorboard])\n"
      ],
      "metadata": {
        "colab": {
          "base_uri": "https://localhost:8080/"
        },
        "id": "vwaLSSKXrU8E",
        "outputId": "1f3b6346-2502-472e-e903-f0a5f7343700"
      },
      "execution_count": 31,
      "outputs": [
        {
          "output_type": "stream",
          "name": "stdout",
          "text": [
            "Training the model..\n",
            "Epoch 1/5\n",
            "391/391 - 21s - loss: 0.5467 - accuracy: 0.7010 - val_loss: 0.3937 - val_accuracy: 0.8254 - 21s/epoch - 54ms/step\n",
            "Epoch 2/5\n",
            "391/391 - 18s - loss: 0.3783 - accuracy: 0.8381 - val_loss: 0.3900 - val_accuracy: 0.8360 - 18s/epoch - 47ms/step\n",
            "Epoch 3/5\n",
            "391/391 - 16s - loss: 0.3221 - accuracy: 0.8661 - val_loss: 0.3922 - val_accuracy: 0.8299 - 16s/epoch - 41ms/step\n",
            "Epoch 4/5\n",
            "391/391 - 16s - loss: 0.2869 - accuracy: 0.8815 - val_loss: 0.4067 - val_accuracy: 0.8342 - 16s/epoch - 41ms/step\n",
            "Epoch 5/5\n",
            "391/391 - 16s - loss: 0.2502 - accuracy: 0.8993 - val_loss: 0.4577 - val_accuracy: 0.8284 - 16s/epoch - 41ms/step\n"
          ]
        },
        {
          "output_type": "execute_result",
          "data": {
            "text/plain": [
              "<keras.callbacks.History at 0x7fdd49f73390>"
            ]
          },
          "metadata": {},
          "execution_count": 31
        }
      ]
    },
    {
      "cell_type": "code",
      "source": [],
      "metadata": {
        "id": "8HYDnzY1MzCx"
      },
      "execution_count": null,
      "outputs": []
    }
  ]
}